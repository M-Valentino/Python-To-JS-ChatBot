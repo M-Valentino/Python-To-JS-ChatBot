{
 "cells": [
  {
   "cell_type": "code",
   "execution_count": 18,
   "id": "f7d09c11",
   "metadata": {},
   "outputs": [
    {
     "data": {
      "text/html": [
       "<div>\n",
       "<style scoped>\n",
       "    .dataframe tbody tr th:only-of-type {\n",
       "        vertical-align: middle;\n",
       "    }\n",
       "\n",
       "    .dataframe tbody tr th {\n",
       "        vertical-align: top;\n",
       "    }\n",
       "\n",
       "    .dataframe thead th {\n",
       "        text-align: right;\n",
       "    }\n",
       "</style>\n",
       "<table border=\"1\" class=\"dataframe\">\n",
       "  <thead>\n",
       "    <tr style=\"text-align: right;\">\n",
       "      <th></th>\n",
       "      <th>input</th>\n",
       "      <th>response</th>\n",
       "    </tr>\n",
       "  </thead>\n",
       "  <tbody>\n",
       "    <tr>\n",
       "      <th>0</th>\n",
       "      <td>Hi</td>\n",
       "      <td>Hello!</td>\n",
       "    </tr>\n",
       "    <tr>\n",
       "      <th>1</th>\n",
       "      <td>How are you?</td>\n",
       "      <td>I'm good thank you!</td>\n",
       "    </tr>\n",
       "    <tr>\n",
       "      <th>2</th>\n",
       "      <td>What is your name?</td>\n",
       "      <td>I am a chatbot.</td>\n",
       "    </tr>\n",
       "    <tr>\n",
       "      <th>3</th>\n",
       "      <td>Goodbye</td>\n",
       "      <td>Goodbye!</td>\n",
       "    </tr>\n",
       "    <tr>\n",
       "      <th>4</th>\n",
       "      <td>Tell me a joke</td>\n",
       "      <td>Sure, why don't scientists trust atoms? Becaus...</td>\n",
       "    </tr>\n",
       "  </tbody>\n",
       "</table>\n",
       "</div>"
      ],
      "text/plain": [
       "                input                                           response\n",
       "0                  Hi                                             Hello!\n",
       "1        How are you?                                I'm good thank you!\n",
       "2  What is your name?                                    I am a chatbot.\n",
       "3             Goodbye                                           Goodbye!\n",
       "4      Tell me a joke  Sure, why don't scientists trust atoms? Becaus..."
      ]
     },
     "execution_count": 18,
     "metadata": {},
     "output_type": "execute_result"
    }
   ],
   "source": [
    "import pandas as pd\n",
    "\n",
    "df = pd.read_csv('training.csv', quotechar='\"', escapechar='\\\\', on_bad_lines='skip')\n",
    "df.head()"
   ]
  },
  {
   "cell_type": "code",
   "execution_count": 19,
   "id": "91440fb6",
   "metadata": {},
   "outputs": [
    {
     "name": "stderr",
     "output_type": "stream",
     "text": [
      "[nltk_data] Downloading package punkt to\n",
      "[nltk_data]     /Users/markvalentino/nltk_data...\n",
      "[nltk_data]   Package punkt is already up-to-date!\n"
     ]
    },
    {
     "data": {
      "text/plain": [
       "Pipeline(steps=[('tfidfvectorizer', TfidfVectorizer()),\n",
       "                ('logisticregression', LogisticRegression())])"
      ]
     },
     "execution_count": 19,
     "metadata": {},
     "output_type": "execute_result"
    }
   ],
   "source": [
    "from sklearn.feature_extraction.text import TfidfVectorizer\n",
    "from sklearn.linear_model import LogisticRegression\n",
    "from sklearn.pipeline import make_pipeline\n",
    "from sklearn.model_selection import train_test_split\n",
    "import nltk\n",
    "\n",
    "# Download NLTK data\n",
    "nltk.download('punkt')\n",
    "\n",
    "\n",
    "# Prepare data\n",
    "X = df['input']\n",
    "y = df['response']\n",
    "\n",
    "# Check the number of unique responses\n",
    "unique_responses = y.nunique()\n",
    "if unique_responses < 2:\n",
    "    raise ValueError(f\"The dataset contains only {unique_responses} unique class(es). Please provide more diverse data.\")\n",
    "\n",
    "# Split the data into training and testing sets\n",
    "X_train, X_test, y_train, y_test = train_test_split(X, y, test_size=0.2, random_state=42)\n",
    "\n",
    "# Create a pipeline that vectorizes the text and then applies a logistic regression model\n",
    "model = make_pipeline(TfidfVectorizer(), LogisticRegression())\n",
    "\n",
    "# Train the model\n",
    "model.fit(X_train, y_train)\n",
    "\n"
   ]
  },
  {
   "cell_type": "code",
   "execution_count": null,
   "id": "a1621be8",
   "metadata": {},
   "outputs": [
    {
     "name": "stdout",
     "output_type": "stream",
     "text": [
      "Start chatting with the bot (type 'quit' to stop)!\n",
      "You: Tell me a joke\n",
      "Bot: Sure, why don't scientists trust atoms? Because they make up everything!\n"
     ]
    }
   ],
   "source": [
    "# Function to get a response from the chatbot\n",
    "def get_response(user_input):\n",
    "    return model.predict([user_input])[0]\n",
    "\n",
    "# Chat loop\n",
    "print(\"Start chatting with the bot (type 'quit' to stop)!\")\n",
    "while True:\n",
    "    user_input = input(\"You: \")\n",
    "    if user_input.lower() == 'quit':\n",
    "        break\n",
    "    response = get_response(user_input)\n",
    "    print(f\"Bot: {response}\")"
   ]
  },
  {
   "cell_type": "code",
   "execution_count": 16,
   "id": "dd5631c3",
   "metadata": {},
   "outputs": [],
   "source": [
    "import json\n",
    "import numpy as np\n",
    "\n",
    "# Serialize the TF-IDF vectorizer\n",
    "vectorizer_dict = {\n",
    "    'vocabulary': model.named_steps['tfidfvectorizer'].vocabulary_,\n",
    "    'idf': model.named_steps['tfidfvectorizer'].idf_.tolist()\n",
    "}\n",
    "\n",
    "with open('vectorizer.json', 'w') as f:\n",
    "    json.dump(vectorizer_dict, f)\n",
    "\n",
    "# Serialize the logistic regression model\n",
    "model_coeffs = model.named_steps['logisticregression'].coef_.tolist()\n",
    "model_intercept = model.named_steps['logisticregression'].intercept_.tolist()\n",
    "classes = model.named_steps['logisticregression'].classes_.tolist()\n",
    "\n",
    "model_data = {\n",
    "    'coefficients': model_coeffs,\n",
    "    'intercept': model_intercept,\n",
    "    'classes': classes\n",
    "}\n",
    "\n",
    "with open('model.json', 'w') as f:\n",
    "    json.dump(model_data, f)"
   ]
  },
  {
   "cell_type": "code",
   "execution_count": null,
   "id": "3085dc1b",
   "metadata": {},
   "outputs": [],
   "source": []
  }
 ],
 "metadata": {
  "kernelspec": {
   "display_name": "Python 3 (ipykernel)",
   "language": "python",
   "name": "python3"
  },
  "language_info": {
   "codemirror_mode": {
    "name": "ipython",
    "version": 3
   },
   "file_extension": ".py",
   "mimetype": "text/x-python",
   "name": "python",
   "nbconvert_exporter": "python",
   "pygments_lexer": "ipython3",
   "version": "3.9.12"
  }
 },
 "nbformat": 4,
 "nbformat_minor": 5
}
